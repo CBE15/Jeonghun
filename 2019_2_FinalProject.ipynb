{
 "cells": [
  {
   "cell_type": "markdown",
   "metadata": {
    "colab_type": "text",
    "id": "gHZagaHxbwC0"
   },
   "source": [
    "[![Open In Colab](https://colab.research.google.com/assets/colab-badge.svg)](https://colab.research.google.com/github/SeoulTechPSE/EngMath/blob/master/2019_2_FinalProject.ipynb)"
   ]
  },
  {
   "cell_type": "markdown",
   "metadata": {
    "colab_type": "text",
    "id": "wca9Wj85bwDm"
   },
   "source": [
    "## Laplace's Equation in the Sphere"
   ]
  },
  {
   "cell_type": "markdown",
   "metadata": {
    "colab_type": "text",
    "id": "uU00qrFSbwDw"
   },
   "source": [
    "We consider the boundary value problem\n",
    "\n",
    ">$\\begin{align*}\n",
    " u_{rr} +\\frac{2}{r} u_r &+\\frac{1}{r^2}u_{\\phi\\phi} +\\frac{\\cot\\phi}{r^2} u_{\\phi} +\\frac{1}{r^2\\sin^2\\phi}u_{\\theta\\theta} = 0, \\;\\; r < R \\\\ \n",
    " u(R,\\phi,\\theta) &= g(\\phi,\\theta)\\\\ \n",
    "\\end{align*}$\n",
    "\n",
    "in a sphere of radius $R$. (a) Solve this problem by separation of variables, (b) derive $K(r,\\phi,\\theta; R,\\varphi,\\vartheta)$ in the equivalent integral formula:\n",
    "\n",
    ">$\\displaystyle u(r,\\phi,\\theta) = \\int_0^{2\\pi} \\int_0^\\pi K(r,\\phi,\\theta; R,\\varphi,\\vartheta)\\, g(\\varphi,\\vartheta) \\sin\\varphi \\,d\\varphi \\, d\\vartheta$"
   ]
  },
  {
   "cell_type": "markdown",
   "metadata": {},
   "source": [
    "**(a)** "
   ]
  },
  {
   "cell_type": "markdown",
   "metadata": {},
   "source": [
    "**[way1] assume azimuthal symmetry**"
   ]
  },
  {
   "cell_type": "markdown",
   "metadata": {},
   "source": [
    "To make initial calculations a little simpler, let’s assume azimuthal symmetry; that\n",
    "means that the parameter u does not vary in the θ direction. In other words, $∂u/∂θ = 0$,\n",
    "so we can write the Laplacian a bit more simply. Assuming azimuthal symmetry,\n",
    "the given eq. becomes:"
   ]
  },
  {
   "cell_type": "markdown",
   "metadata": {
    "colab_type": "text",
    "id": "uU00qrFSbwDw"
   },
   "source": [
    ">$\\begin{align*}\n",
    "\\frac{1}{r^2}(r^2u_r)_r +\\frac{1}{r^2\\sin\\phi}(sin\\phi u_\\phi)_\\phi =0\n",
    "\\end{align*}\\;\\;\\;$ (1)"
   ]
  },
  {
   "cell_type": "markdown",
   "metadata": {},
   "source": [
    "This is the form of Laplace’s equation we have to solve. First, let’s apply the method of separable variables to\n",
    "this equation to obtain a general solution of Laplace’s equation."
   ]
  },
  {
   "cell_type": "markdown",
   "metadata": {},
   "source": [
    "**STEP1 The Trial Solution**"
   ]
  },
  {
   "cell_type": "markdown",
   "metadata": {},
   "source": [
    "The first step in solving partial differential equations using separable variables is to\n",
    "assume a solution of the form: "
   ]
  },
  {
   "cell_type": "markdown",
   "metadata": {
    "colab_type": "text",
    "id": "uU00qrFSbwDw"
   },
   "source": [
    ">$\\begin{align*}\n",
    "u(r,\\phi)=R(r)\\varphi(\\phi)\n",
    "\\end{align*}\\;\\;\\;$ (2)"
   ]
  },
  {
   "cell_type": "markdown",
   "metadata": {},
   "source": [
    "where $R(r)$ is a function only of $r$, and $Φ(𝜙)$ is a function only of $𝜙$. This means that we\n",
    "can set: "
   ]
  },
  {
   "cell_type": "markdown",
   "metadata": {
    "colab_type": "text",
    "id": "uU00qrFSbwDw"
   },
   "source": [
    ">$\\begin{align*}\n",
    "u_r=R'(r)\\varphi(\\phi)\\\\\n",
    "u_\\phi=R(r)\\varphi'(\\phi)\n",
    "\\end{align*}\\;\\;\\;$ (3)"
   ]
  },
  {
   "cell_type": "markdown",
   "metadata": {},
   "source": [
    "Substituting the relationships in (3) into (1) produces: "
   ]
  },
  {
   "cell_type": "markdown",
   "metadata": {
    "colab_type": "text",
    "id": "uU00qrFSbwDw"
   },
   "source": [
    ">$\\begin{align*}\n",
    "\\frac{\\varphi(\\phi)}{r^2}(r^2R'(r))_r +\\frac{R(r)}{r^2\\sin\\phi}(sin\\phi \\varphi'(\\phi))_\\phi =0\n",
    "\\end{align*}\\;\\;\\;$ (4)"
   ]
  },
  {
   "cell_type": "markdown",
   "metadata": {},
   "source": [
    "If we multiply each term in (4) by $𝑟^2$ and then divide each term by $u=R(r)𝜑(𝜙)$, we\n",
    "obtain:"
   ]
  },
  {
   "cell_type": "markdown",
   "metadata": {
    "colab_type": "text",
    "id": "uU00qrFSbwDw"
   },
   "source": [
    ">$\\begin{align*}\n",
    "\\frac{1}{R(r)}(r^2R'(r))_r +\\frac{1}{\\varphi(\\phi)sin\\phi}(sin\\phi \\varphi'(\\phi))_\\phi =0\n",
    "\\end{align*}\\;\\;\\;$ (5)"
   ]
  },
  {
   "cell_type": "markdown",
   "metadata": {},
   "source": [
    "Notice that the derivates in (5) are no longer partial derivatives. This is because the\n",
    "method of separable variables has produced two terms; one is solely a function of $r$ and\n",
    "the other is solely a function of $\\phi$"
   ]
  },
  {
   "cell_type": "markdown",
   "metadata": {},
   "source": [
    "**STEP2 Separating Variables**"
   ]
  },
  {
   "cell_type": "markdown",
   "metadata": {},
   "source": [
    "Equation (5) allows us to separate Laplace’s equation into two separate ordinary\n",
    "differential equations; one being a function of $r$ and the other a function of $\\phi$. We realize that each term on the right hand side of (5) is equal to a\n",
    "constant. This means we can separate (5) into: "
   ]
  },
  {
   "cell_type": "markdown",
   "metadata": {
    "colab_type": "text",
    "id": "uU00qrFSbwDw"
   },
   "source": [
    ">$\\begin{align*}\n",
    "\\frac{1}{R(r)}(r^2R'(r))_r=l(l+1)\\\\ \\frac{1}{\\varphi(\\phi)sin\\phi}(sin\\phi \\varphi'(\\phi))_\\phi=-l(l+1)\n",
    "\\end{align*}\\;\\;\\;$ (6)"
   ]
  },
  {
   "cell_type": "markdown",
   "metadata": {},
   "source": [
    "We now have two different ordinary differential equations which we will solve. We\n",
    "realize that the product of solutions will allow us to use eq. (2) (along with appropriate\n",
    "boundary conditions) to determine the solution to Laplace’s equation. You may wonder\n",
    "we choose to write the separation constant as something as non-obvious as $l(l+1)$."
   ]
  },
  {
   "cell_type": "markdown",
   "metadata": {},
   "source": [
    "By writing the\n",
    "separation constant in this way we will produce a well known differential equation whose\n",
    "solution we already know. Notice that separation constant is positive in one equation (the\n",
    "radial part) and negative in the other (the angular part); this is necessary so that the sum\n",
    "of equations is zero as required by Laplace’s equation."
   ]
  },
  {
   "cell_type": "markdown",
   "metadata": {},
   "source": [
    "$\\;$**The radial equation**"
   ]
  },
  {
   "cell_type": "markdown",
   "metadata": {},
   "source": [
    "Let’s start by solving the radial equation of eq. (6). "
   ]
  },
  {
   "cell_type": "markdown",
   "metadata": {},
   "source": [
    "We multiply through by $R(r)$ and expand the derivate to find: "
   ]
  },
  {
   "cell_type": "markdown",
   "metadata": {
    "colab_type": "text",
    "id": "uU00qrFSbwDw"
   },
   "source": [
    ">$\\begin{align*}\n",
    "r^2{R_{rr}}+2rR_r-l(l+1)R=0\n",
    "\\end{align*}\\;\\;\\;$ (7)"
   ]
  },
  {
   "cell_type": "markdown",
   "metadata": {},
   "source": [
    "This is a fairly simple example of a Frobenius differential\n",
    "equation. This is also an example of an Euler (or Cauchy) differential equation."
   ]
  },
  {
   "cell_type": "markdown",
   "metadata": {},
   "source": [
    "Using either the method of Frobenius or methods of Euler’s equations, we can find the\n",
    "solution to equation (7): "
   ]
  },
  {
   "cell_type": "markdown",
   "metadata": {
    "colab_type": "text",
    "id": "uU00qrFSbwDw"
   },
   "source": [
    ">$\\begin{align*}\n",
    "R(r)=Ar^l+Br^{-(l+1)}\n",
    "\\end{align*}\\;\\;\\;$ (8)"
   ]
  },
  {
   "cell_type": "markdown",
   "metadata": {},
   "source": [
    "where A and B are constants which will be determined once we apply specific boundary\n",
    "equations"
   ]
  },
  {
   "cell_type": "markdown",
   "metadata": {},
   "source": [
    "$\\;$**The angular equation**"
   ]
  },
  {
   "cell_type": "markdown",
   "metadata": {},
   "source": [
    "We solve the angular portion of equation (6) by multiplying through by $\\varphi(\\phi)$ and\n",
    "expanding the derivative to obtain: "
   ]
  },
  {
   "cell_type": "markdown",
   "metadata": {
    "colab_type": "text",
    "id": "uU00qrFSbwDw"
   },
   "source": [
    ">$\\begin{align*}\n",
    " \\varphi_{\\phi\\phi}+cot\\phi\\varphi_\\phi+l(l+1)\\varphi=0\n",
    "\\end{align*}\\;\\;\\;$ (9)"
   ]
  },
  {
   "cell_type": "markdown",
   "metadata": {},
   "source": [
    "This is the well known Legendre equation. We know that the solutions to the\n",
    "Legendre equation are the Legendre polynomials, $P_l (cos θ)$."
   ]
  },
  {
   "cell_type": "markdown",
   "metadata": {},
   "source": [
    "**STEP3  Constructing the complete solution**"
   ]
  },
  {
   "cell_type": "markdown",
   "metadata": {},
   "source": [
    "Having separated Laplace’s equation into two ordinary differential equations, we can use\n",
    "the results above to substitute into eq. (2) to realize that the general solution to Laplace’s\n",
    "equation in spherical coordinates will be constructed of a sum of solutions of the form: "
   ]
  },
  {
   "cell_type": "markdown",
   "metadata": {
    "colab_type": "text",
    "id": "uU00qrFSbwDw"
   },
   "source": [
    ">$\\begin{align*}\n",
    "u(r,\\phi)=(Ar^l+Br^{-(l+1)})P_l(cos\\phi)\n",
    "\\end{align*}\\;\\;\\;$ (10)"
   ]
  },
  {
   "cell_type": "markdown",
   "metadata": {},
   "source": [
    "From Laplace’s equation in Cartesian coordinates, we know that the\n",
    "full solution will be constructed by taking a sum of solutions of the form of (10); in other\n",
    "words, our general solution to Laplace’s equation in spherical coordinates is:"
   ]
  },
  {
   "cell_type": "markdown",
   "metadata": {
    "colab_type": "text",
    "id": "uU00qrFSbwDw"
   },
   "source": [
    ">$\\begin{align*}\n",
    "u(r,\\phi)=\\sum_{l=0}^\\infty (A_lr^l+B_lr^{-(l+1)})P_l(cos\\phi)\n",
    "\\end{align*}\\;\\;\\;$ (11)"
   ]
  },
  {
   "cell_type": "markdown",
   "metadata": {},
   "source": [
    "Now, all we need are boundary conditions to determine the values of the coefficients $A_l$\n",
    "and $B_l$. "
   ]
  },
  {
   "cell_type": "markdown",
   "metadata": {},
   "source": [
    "$\\;$**Applying Boundary Conditions**"
   ]
  },
  {
   "cell_type": "markdown",
   "metadata": {},
   "source": [
    "in such a way that it agrees with the BC  $𝑢(R,𝜙)=𝑔(𝜙)$ . Substituting the above solution into the BC gives"
   ]
  },
  {
   "cell_type": "markdown",
   "metadata": {
    "colab_type": "text",
    "id": "uU00qrFSbwDw"
   },
   "source": [
    ">$\\begin{align*}\n",
    "g(\\phi)=\\sum_{l=0}^\\infty (A_lR^l+B_lR^{-(l+1)})P_l(cos\\phi)\n",
    "\\end{align*}\\;\\;\\;$ (12)"
   ]
  },
  {
   "cell_type": "markdown",
   "metadata": {},
   "source": [
    "From Fourier-Legendre series,"
   ]
  },
  {
   "cell_type": "markdown",
   "metadata": {
    "colab_type": "text",
    "id": "uU00qrFSbwDw"
   },
   "source": [
    ">$\\begin{align*}\n",
    "A_lR^l+B_lR^{-(l+1)}=\\frac{2l+1}{2}\\int_0^\\pi g(\\phi)P_l(cos\\phi)sin\\phi d\\phi\n",
    "\\end{align*}\\;\\;\\;$ (13)"
   ]
  },
  {
   "cell_type": "markdown",
   "metadata": {},
   "source": [
    "**[way2] no assumption**"
   ]
  },
  {
   "cell_type": "markdown",
   "metadata": {},
   "source": [
    "Periodic Boundary Condition"
   ]
  },
  {
   "cell_type": "markdown",
   "metadata": {},
   "source": [
    ">$\\begin{align*}\n",
    "u(r,\\phi,\\theta)=u(r,\\phi,\\theta+2\\pi)\n",
    "\\end{align*}$"
   ]
  },
  {
   "cell_type": "markdown",
   "metadata": {},
   "source": [
    "Regulary Conditions"
   ]
  },
  {
   "cell_type": "markdown",
   "metadata": {},
   "source": [
    ">$\\begin{align*}\n",
    "|u|<\\infty \\;\\; in \\;\\; 0<r<R\n",
    "\\end{align*}$"
   ]
  },
  {
   "cell_type": "markdown",
   "metadata": {},
   "source": [
    "Separation of variables"
   ]
  },
  {
   "cell_type": "markdown",
   "metadata": {},
   "source": [
    ">$\\begin{align*}\n",
    "u(r,\\phi,\\theta)=R(r)\\varphi(\\phi)\\vartheta(\\theta)\n",
    "\\end{align*}$"
   ]
  },
  {
   "cell_type": "markdown",
   "metadata": {
    "colab_type": "text",
    "id": "uU00qrFSbwDw"
   },
   "source": [
    ">$\\begin{align*}\n",
    "\\vartheta''+\\lambda\\vartheta=0\\;\\;\\;0\\leq\\theta<\\pi \\\\\n",
    "r^2R''+2rR'-\\mu R=0\\;\\;\\;0<r<R \\\\\n",
    "\\varphi''+cot\\phi\\varphi'+(\\mu-\\lambda\\csc^2\\phi)\\varphi=0\\;\\;\\;0\\leq\\phi<\\pi\n",
    "\\end{align*}$"
   ]
  },
  {
   "cell_type": "markdown",
   "metadata": {},
   "source": [
    "From Periodic B.C."
   ]
  },
  {
   "cell_type": "markdown",
   "metadata": {
    "colab_type": "text",
    "id": "uU00qrFSbwDw"
   },
   "source": [
    ">$\\begin{align*}\n",
    "\\text{SL-problem} \\;\\; \\vartheta''+\\lambda\\vartheta=0, \\vartheta(\\theta)=\\vartheta(\\theta+2\\pi)\\\\\n",
    "\\text{Eigenvalues,} \\;\\; \\lambda=\\lambda_m=m^2, m=0,1,2,.... \\\\\n",
    "\\text{Eigenfunctions,} \\;\\; \\vartheta_m(\\theta)=A_m \\cos m\\theta+B_m\\sin m\\theta \\\\ \\text{or\n",
    "more often for the case of Spherical coordinate problems,} \\\\\n",
    "\\text{the eigenfunctions are writen as} \\; \\vartheta_m(\\theta)=e^{im\\theta}\n",
    "\\end{align*}$"
   ]
  },
  {
   "cell_type": "markdown",
   "metadata": {},
   "source": [
    "ODE for $\\varphi$ : "
   ]
  },
  {
   "cell_type": "markdown",
   "metadata": {},
   "source": [
    ">$\\begin{align*}\n",
    "\\varphi''+\\cot\\phi\\varphi'+(\\mu-m^2\\csc^2\\phi)\\varphi=0, 0\\leq\\phi<\\pi\n",
    "\\end{align*}$"
   ]
  },
  {
   "cell_type": "markdown",
   "metadata": {},
   "source": [
    "Could be converted to associated Legendre's equation by changing the variable $s=cos\\phi.$\n",
    "\n",
    "$(1-s^2)\\varphi''-2s\\varphi'+[\\mu-\\frac{m^2}{1-s^2}]\\varphi=0$\n",
    "\n",
    "The associated Legendre’s equation has bounded\n",
    "solution only when $\\mu=n(n+1)$.\n",
    "\n",
    "The bounded solution is the associated Legendre\n",
    "function of the first kind, $\\varphi_{mn}(\\phi)=P_n^m(\\cos\\phi)$"
   ]
  },
  {
   "cell_type": "markdown",
   "metadata": {},
   "source": [
    "Combining eigenfunctions for $\\theta$ and $\\phi$:\n",
    "\n",
    "$\\varphi_mn(\\phi)\\vartheta_m(\\theta)$ ∝ $Y_n^m(\\phi,\\theta)$\n",
    "\n",
    "The sperical harmonics function is defined as\n",
    "$Y_n^m(\\phi,\\theta)=(\\frac{2n+1}{4\\pi} \\frac{(n-m)!}{(n+m)!})^\\frac{1}{2} P_n^m(\\cos\\phi)e^{im\\theta}. $"
   ]
  },
  {
   "cell_type": "markdown",
   "metadata": {},
   "source": [
    "ODE for $r:r^2R''+2rR'-n(n+1)R=0$ is an Euler equation:\n",
    "\n",
    "The bounded solution is $R(r)∝r^n, 0<r<R.$"
   ]
  },
  {
   "cell_type": "markdown",
   "metadata": {},
   "source": [
    "General solution:"
   ]
  },
  {
   "cell_type": "markdown",
   "metadata": {
    "colab_type": "text",
    "id": "uU00qrFSbwDw"
   },
   "source": [
    ">$\\begin{align*}\n",
    "u(r,\\phi,\\theta)=\\sum_{n=0}^\\infty\\sum_{m=-n}^n C_{nm}r^nY_n^m(\\phi,\\theta).\n",
    "\\end{align*}$"
   ]
  },
  {
   "cell_type": "markdown",
   "metadata": {},
   "source": [
    "Initial” condition: $u(R,\\phi,\\theta) = f(\\phi,\\theta)$, gives the\n",
    "generalized Fourier coefficients"
   ]
  },
  {
   "cell_type": "markdown",
   "metadata": {
    "colab_type": "text",
    "id": "uU00qrFSbwDw"
   },
   "source": [
    ">$\\begin{align*}\n",
    "c_{nm}R^n=\\int_0^{2\\pi} \\int_0^\\pi Y_n^{m*}(\\phi,\\theta)f(\\phi,\\theta)\\sin\\phi d\\phi d\\theta\n",
    "\\end{align*}$"
   ]
  },
  {
   "cell_type": "markdown",
   "metadata": {},
   "source": [
    "**(b)** - from [way1]"
   ]
  },
  {
   "cell_type": "markdown",
   "metadata": {},
   "source": [
    ">$\\begin{align*}\n",
    "u(R,\\phi)=g(cos\\phi), 0<\\phi<\\pi\n",
    "\\end{align*}$"
   ]
  },
  {
   "cell_type": "markdown",
   "metadata": {},
   "source": [
    ">$\\begin{align*}\n",
    "u(r,\\phi)=\\frac{1}{2}\\sum_{n=0}^\\infty(\\frac{r}{R})^n P_n(cos\\phi)(2n+1)\\int_{-1}^1 f(x)P_n(x)dx\n",
    "\\end{align*}$"
   ]
  },
  {
   "cell_type": "markdown",
   "metadata": {},
   "source": [
    ">$\\begin{align*}\n",
    " f(cos\\phi) = \\;\\; \n",
    " &\\begin{cases}\n",
    " V, \\; 0<\\phi<\\pi/2 \\; (0<x<1) \\\\\n",
    " -V, \\; \\pi/2<\\phi<\\pi \\; (-1<x<0)\n",
    " \\end{cases} \\\\  \n",
    "\\end{align*}$"
   ]
  },
  {
   "cell_type": "markdown",
   "metadata": {},
   "source": [
    ">$\\begin{align*}\n",
    " \\int_{-1}^1 f(x)P_n(x)dx =\n",
    " &\\begin{cases}\n",
    " 0, \\text{if n is even} \\\\\n",
    " 2V\\int_{0}^1 P_n(x)dx, \\text{if n is odd}\n",
    " \\end{cases} \\\\  \n",
    "\\end{align*}$"
   ]
  },
  {
   "cell_type": "markdown",
   "metadata": {},
   "source": [
    ">$\\begin{align*}\n",
    "u(r,\\phi)=V[\\frac{3}{2}\\frac{r}{R}P_1(cos\\phi)-\\frac{7}{8}(\\frac{r}{R})^3P_3(cos\\phi)+\\frac{11}{16}(\\frac{r}{R})^5P_5(cos\\phi)+...]\n",
    "\\end{align*}$"
   ]
  },
  {
   "cell_type": "markdown",
   "metadata": {},
   "source": [
    ">$\\begin{align*}\n",
    "u(r,\\theta,\\phi)=\\sum_{n=0}^\\infty(\\frac{R}{r})^{n+1}[\\frac{1}{2}a_{0n}P_n(cos\\phi)+\\sum_{m=1}^n(a_{nm}cosm\\theta+b_{mn}sinm\\theta)P_n^m(cos\\phi)]\n",
    "\\end{align*}$"
   ]
  },
  {
   "cell_type": "markdown",
   "metadata": {},
   "source": [
    ">$\\begin{align*}\n",
    "u(r,\\phi)=\\frac{1}{2}\\sum_{n=0}^\\infty(\\frac{R}{r})^{n+1} P_n(cos\\phi)(2n+1)\\int_{-1}^1 f(x)P_n(x)dx\n",
    "\\end{align*}$"
   ]
  },
  {
   "cell_type": "markdown",
   "metadata": {},
   "source": [
    ">$\\begin{align*}\n",
    "u(r,\\phi)=V[\\frac{3}{2}(\\frac{R}{r})^2P_1(cos\\phi)-\\frac{7}{8}(\\frac{R}{r})^4P_3(cos\\phi)+\\frac{11}{16}(\\frac{R}{r})^6P_5(cos\\phi)+...]\n",
    "\\end{align*}$"
   ]
  },
  {
   "cell_type": "markdown",
   "metadata": {},
   "source": [
    ">$\\begin{align*}\n",
    "u(r,\\theta,\\phi)=\\frac{a(a^2-r^2)}{4\\pi} \\int_0^{2\\pi} \\int_0^{\\pi}\\frac{f(\\theta^*,\\phi^*)sin\\phi^* d\\phi^* d\\theta^*}{(r^2+a^2-2racos\\beta)^{\\frac{3}{2}}}, \\; \\;r<R\n",
    "\\end{align*}$"
   ]
  },
  {
   "cell_type": "markdown",
   "metadata": {},
   "source": [
    ">$\\begin{align*}\n",
    "\\text{where}\\\\\n",
    "cos\\beta=cos\\phi cos\\phi^* +sin\\phi sin\\phi^* cos(\\theta-\\theta^*)\n",
    "\\end{align*}$"
   ]
  },
  {
   "cell_type": "markdown",
   "metadata": {
    "colab_type": "text",
    "id": "B3lVBid1bwD2"
   },
   "source": [
    "## Poisson's Equation for the Sphere"
   ]
  },
  {
   "cell_type": "markdown",
   "metadata": {
    "colab_type": "text",
    "id": "8lVssMI2bwEQ"
   },
   "source": [
    "We consider the problem\n",
    "\n",
    ">$\\begin{align*}\n",
    " u_{rr} +\\frac{2}{r} u_r &+\\frac{1}{r^2}u_{\\phi\\phi} +\\frac{\\cot\\phi}{r^2} u_{\\phi} +\\frac{1}{r^2\\sin^2\\phi}u_{\\theta\\theta} = -F(r,\\phi,\\theta), \\;\\; r < R \\\\ \n",
    " u(R,\\phi,\\theta) &= 0\\\\ \n",
    "\\end{align*}$\n",
    "\n",
    "(a) solve by taking the finite Fourier Transforms, (b) derive $G(r,\\phi,\\theta; \\rho,\\varphi,\\vartheta)$ in the equivalent integral formula:\n",
    "\n",
    ">$\\displaystyle u(r,\\phi,\\theta) = \\int_0^{2\\pi} \\int_0^\\pi \\int_0^R G(r,\\phi,\\theta; \\rho,\\varphi,\\vartheta)\\, F(\\rho, \\varphi,\\vartheta) \\,\\rho^2 \\sin\\varphi \\,d\\rho \\,d\\varphi \\, d\\vartheta$"
   ]
  },
  {
   "cell_type": "markdown",
   "metadata": {},
   "source": [
    "caution : $R$ and $\\phi$ which are going to use below are different from the given parameters."
   ]
  },
  {
   "cell_type": "markdown",
   "metadata": {},
   "source": [
    " We can write the given equation as"
   ]
  },
  {
   "cell_type": "markdown",
   "metadata": {},
   "source": [
    "$\\begin{align*}\n",
    "\\nabla^2Q=R\n",
    "\\end{align*}\\;\\;\\;$"
   ]
  },
  {
   "cell_type": "markdown",
   "metadata": {},
   "source": [
    "Given cartesian co-ordinates $(x.y)$ we define spherical polar\n",
    "co-ordinates $(\\lambda,\\phi)$ by $x=r\\lambda cos\\phi$, $y=r\\phi$.The equation is then,"
   ]
  },
  {
   "cell_type": "markdown",
   "metadata": {},
   "source": [
    "$\\begin{align*}\n",
    "\\frac{1}{a^2\\cos^2\\phi}Q_{\\lambda\\lambda}+\\frac{1}{a^2\\cos\\phi}(cos\\phi Q_\\phi)_\\phi=R\n",
    "\\end{align*}\\;\\;\\;$ (1)"
   ]
  },
  {
   "cell_type": "markdown",
   "metadata": {},
   "source": [
    "There exists a unique solution, up to an arbitrary constant, of equation (1), if and only if, the\n",
    "integral of $R$ over the surface of the sphere is 0.\n",
    "\n",
    "This condition on $R$ is known as the ‘ Compatibility Condition’. From now on we assume that all the\n",
    "functions $R$ we consider possess this property.\n",
    "\n",
    "\n",
    "We solve equation (1) by decomposing $Q$ and $R$ into fourier series and solving the resulting\n",
    "equations for the coefficients of each wave-number. This approach reduces the 2-dimensional\n",
    "equation into a set of 1-dimensional equations in $\\phi$. In the code the fourier decomposition is done\n",
    "by application of Fast Fourier Transforms (henceforth FFTs). The 1-dimensional equations in $\\phi$ are\n",
    "discretised using centred finite-differences and the resulting tri-diagonal matrix system is solved\n",
    "directly."
   ]
  },
  {
   "cell_type": "markdown",
   "metadata": {},
   "source": [
    "Any Riemann integrable, periodic in $\\lambda$ function $R$ can be expressed exactly as a fourier series\n",
    "as follows,"
   ]
  },
  {
   "cell_type": "markdown",
   "metadata": {},
   "source": [
    "$\\begin{align*}\n",
    "R(\\lambda,\\phi)=r_0(\\phi)+is_0+\\sum_{k=1}^\\infty r_k(\\phi)cos(k\\lambda)+is_k(\\phi)sin(k\\lambda)\n",
    "\\end{align*}$"
   ]
  },
  {
   "cell_type": "markdown",
   "metadata": {},
   "source": [
    "where $i=(-1)^{0.5}$ . We can write $Q(\\lambda,\\phi)$ similarly as"
   ]
  },
  {
   "cell_type": "markdown",
   "metadata": {},
   "source": [
    "$\\begin{align*}\n",
    "Q(\\lambda,\\phi)=a_0(\\phi)+ib_0+\\sum_{k=1}^\\infty a_k(\\phi)cos(k\\lambda)+ib_k(\\phi)sin(k\\lambda)\n",
    "\\end{align*}$"
   ]
  },
  {
   "cell_type": "markdown",
   "metadata": {},
   "source": [
    "Here we consider only real-valued functions of $R$ for which $s_0=0$. Substituting these series into \n",
    "equation (1) we arrive at the following set of equations:"
   ]
  },
  {
   "cell_type": "markdown",
   "metadata": {},
   "source": [
    "Wave-number $k=0$"
   ]
  },
  {
   "cell_type": "markdown",
   "metadata": {},
   "source": [
    "$\\begin{align*}\n",
    "\\frac{1}{a^2\\cos\\phi}(\\cos\\phi a_{0\\phi}(\\phi))_\\phi=r_0(\\phi)\n",
    "\\end{align*}\\;\\;\\;$ (2)"
   ]
  },
  {
   "cell_type": "markdown",
   "metadata": {},
   "source": [
    "For each wave-number $k>0$"
   ]
  },
  {
   "cell_type": "markdown",
   "metadata": {},
   "source": [
    "$\\begin{align*}\n",
    "\\frac{-k^2}{a^2\\cos\\phi}a_k(\\phi)+\\frac{1}{a^2\\cos\\phi}(cos\\phi a_{k\\phi}(\\phi))_\\phi=r_k(\\phi)\n",
    "\\end{align*}\\;\\;\\;$ (3)"
   ]
  },
  {
   "cell_type": "markdown",
   "metadata": {},
   "source": [
    "The same equations with $a_k$ replaced by $b_k$ and $r_k$ replaced by $s_k$ are obtained for the\n",
    "imaginary modes. These equations can now be solved for the coefficients $a_k$ and $b_k$ given the function $R$ . $Q$ is then found by summing the fourier series. The arbitrary constant in the \n",
    "solution to equation (1) comes from equation (2) where it is trivial to observe that the solution $a_0$\n",
    "is determined only up to an arbitrary constant. It should also be noted that the solutions to equation\n",
    "(3) are uniquely determined. The usual choice of the arbitrary constant is zero."
   ]
  },
  {
   "cell_type": "markdown",
   "metadata": {},
   "source": [
    "We assume that $R$ is given on a numerical grid of $n x m$ points. $R$ is then decomposed into\n",
    "wave-numbers using FFT routines to give components for wave-numbers 0 to (n/2), a total\n",
    "of (n+2) storage locations rather than n. We assume that the solution $Q$ is required at the\n",
    "same points as the right-hand-side $R$. We discretise equations (2-3) using the centred\n",
    "finite-difference operator"
   ]
  },
  {
   "cell_type": "markdown",
   "metadata": {},
   "source": [
    "$\\begin{align*}\n",
    "\\delta_\\phi(x_i)=(x_{i-1/2}-x_{i-1/2}) / ∆\\phi\n",
    "\\end{align*}$"
   ]
  },
  {
   "cell_type": "markdown",
   "metadata": {},
   "source": [
    "where i=1 is the northern most point. This gives rise to a tri-diagonal matrix system which is\n",
    "solved by gaussian elimination. Given that $R$ is real then $s_0=0$ and hence $b_0=0$. The\n",
    "arbitrary constant in $a_0$ is determined by setting"
   ]
  },
  {
   "cell_type": "markdown",
   "metadata": {},
   "source": [
    "$\\begin{align*}\n",
    "a_0(\\phi) :=a_0(\\phi) - a_0(\\phi)^\\phi\n",
    "\\end{align*}$"
   ]
  },
  {
   "cell_type": "markdown",
   "metadata": {},
   "source": [
    "where $a_0(\\phi)^\\phi$ is the mean of over all values of $\\phi$. In general the arbitrary constant chosen this way will not be zero but depends on the function $a_0(\\phi)$ . Depending on the staggering of the \n",
    "numerical grid differing boundary conditions need to be applied to equations (2-3)."
   ]
  }
 ],
 "metadata": {
  "colab": {
   "name": "2019_2_FinalProject.ipynb",
   "provenance": []
  },
  "kernelspec": {
   "display_name": "Python 3",
   "language": "python",
   "name": "python3"
  },
  "language_info": {
   "codemirror_mode": {
    "name": "ipython",
    "version": 3
   },
   "file_extension": ".py",
   "mimetype": "text/x-python",
   "name": "python",
   "nbconvert_exporter": "python",
   "pygments_lexer": "ipython3",
   "version": "3.7.1"
  }
 },
 "nbformat": 4,
 "nbformat_minor": 1
}
